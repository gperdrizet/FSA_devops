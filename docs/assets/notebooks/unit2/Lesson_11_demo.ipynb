{
 "cells": [
  {
   "cell_type": "markdown",
   "id": "82ae89a5-785f-4ffb-8716-441657fabc59",
   "metadata": {},
   "source": [
    "# Introduction to Data Visualization\n",
    "\n",
    "1. Plotting a quantity: bar plot\n",
    "2. Plotting a continuous function: line plot\n",
    "3. Plotting relationships: scatter plots\n",
    "4. Plotting distributions: box plot & histograms\n",
    "\n",
    "## 1. Bar plot"
   ]
  },
  {
   "cell_type": "code",
   "execution_count": 1,
   "id": "8684a1f9-0fb3-42d8-a334-23723ffe178d",
   "metadata": {},
   "outputs": [],
   "source": [
    "import matplotlib.pyplot as plt"
   ]
  },
  {
   "cell_type": "code",
   "execution_count": 2,
   "id": "11932dc7-33d8-470d-8b71-c10cc76a5352",
   "metadata": {},
   "outputs": [],
   "source": [
    "# Generate data for a bar chart\n",
    "categories = ['Category A', 'Category B', 'Category C']\n",
    "values = [25, 40, 15]"
   ]
  },
  {
   "cell_type": "code",
   "execution_count": 3,
   "id": "edb318be-2a96-43e9-968a-2026203c7893",
   "metadata": {},
   "outputs": [
    {
     "data": {
      "image/png": "[encoded data removed]",
      "text/plain": [
       "<Figure size 432x288 with 1 Axes>"
      ]
     },
     "metadata": {
      "needs_background": "light"
     },
     "output_type": "display_data"
    }
   ],
   "source": [
    "plt.title('Bar chart')\n",
    "plt.bar(categories, values, color='grey', edgecolor='black')\n",
    "plt.xlabel('Categories')\n",
    "plt.ylabel('Values')\n",
    "plt.xticks(rotation=45)\n",
    "plt.show()"
   ]
  },
  {
   "cell_type": "markdown",
   "id": "d23a9218-ed52-4b47-b100-5c115203c9c4",
   "metadata": {},
   "source": [
    "## 2. Line plot"
   ]
  },
  {
   "cell_type": "code",
   "execution_count": 4,
   "id": "9d699323-7838-4714-91fd-13a3b13ef076",
   "metadata": {},
   "outputs": [],
   "source": [
    "import numpy as np\n",
    "\n",
    "# Generate data for a line plot\n",
    "x = np.linspace(0, 10, 100)\n",
    "y = np.sin(x)"
   ]
  },
  {
   "cell_type": "code",
   "execution_count": 5,
   "id": "2f123c2c-e59d-4149-adec-ac5d7a263175",
   "metadata": {},
   "outputs": [
    {
     "data": {
      "image/png": "[encoded data removed]",
      "text/plain": [
       "<Figure size 432x288 with 1 Axes>"
      ]
     },
     "metadata": {
      "needs_background": "light"
     },
     "output_type": "display_data"
    }
   ],
   "source": [
    "plt.title('Line plot')\n",
    "\n",
    "plt.plot(\n",
    "    x,\n",
    "    y,\n",
    "    color='red',\n",
    "    linestyle='--',\n",
    "    marker='o',\n",
    "    markerfacecolor='black',\n",
    "    markeredgecolor='black',\n",
    "    markersize=4\n",
    ")\n",
    "\n",
    "plt.show()"
   ]
  },
  {
   "cell_type": "markdown",
   "id": "fd0ae5da-e5b5-404b-847e-f15df0bd6165",
   "metadata": {},
   "source": [
    "## 3. Scatter plot"
   ]
  },
  {
   "cell_type": "code",
   "execution_count": 6,
   "id": "547f14c7-c2eb-476e-9eb9-521d0f6e580b",
   "metadata": {},
   "outputs": [],
   "source": [
    "x = np.random.rand(10)\n",
    "y = 2 * x + np.random.randn(10)"
   ]
  },
  {
   "cell_type": "code",
   "execution_count": 7,
   "id": "28677298-41f0-4db3-ac3c-fb0c37eefe43",
   "metadata": {},
   "outputs": [
    {
     "data": {
      "text/html": [
       "<div>\n",
       "<style scoped>\n",
       "    .dataframe tbody tr th:only-of-type {\n",
       "        vertical-align: middle;\n",
       "    }\n",
       "\n",
       "    .dataframe tbody tr th {\n",
       "        vertical-align: top;\n",
       "    }\n",
       "\n",
       "    .dataframe thead th {\n",
       "        text-align: right;\n",
       "    }\n",
       "</style>\n",
       "<table border=\"1\" class=\"dataframe\">\n",
       "  <thead>\n",
       "    <tr style=\"text-align: right;\">\n",
       "      <th></th>\n",
       "      <th>x</th>\n",
       "      <th>y</th>\n",
       "    </tr>\n",
       "  </thead>\n",
       "  <tbody>\n",
       "    <tr>\n",
       "      <th>0</th>\n",
       "      <td>0.880476</td>\n",
       "      <td>1.932531</td>\n",
       "    </tr>\n",
       "    <tr>\n",
       "      <th>1</th>\n",
       "      <td>0.546833</td>\n",
       "      <td>0.225195</td>\n",
       "    </tr>\n",
       "    <tr>\n",
       "      <th>2</th>\n",
       "      <td>0.616589</td>\n",
       "      <td>0.225494</td>\n",
       "    </tr>\n",
       "    <tr>\n",
       "      <th>3</th>\n",
       "      <td>0.065718</td>\n",
       "      <td>0.374913</td>\n",
       "    </tr>\n",
       "    <tr>\n",
       "      <th>4</th>\n",
       "      <td>0.132824</td>\n",
       "      <td>-1.066660</td>\n",
       "    </tr>\n",
       "    <tr>\n",
       "      <th>5</th>\n",
       "      <td>0.896065</td>\n",
       "      <td>2.416090</td>\n",
       "    </tr>\n",
       "    <tr>\n",
       "      <th>6</th>\n",
       "      <td>0.139145</td>\n",
       "      <td>-1.195936</td>\n",
       "    </tr>\n",
       "    <tr>\n",
       "      <th>7</th>\n",
       "      <td>0.441393</td>\n",
       "      <td>0.464830</td>\n",
       "    </tr>\n",
       "    <tr>\n",
       "      <th>8</th>\n",
       "      <td>0.028050</td>\n",
       "      <td>-0.143843</td>\n",
       "    </tr>\n",
       "    <tr>\n",
       "      <th>9</th>\n",
       "      <td>0.595083</td>\n",
       "      <td>2.502043</td>\n",
       "    </tr>\n",
       "  </tbody>\n",
       "</table>\n",
       "</div>"
      ],
      "text/plain": [
       "          x         y\n",
       "0  0.880476  1.932531\n",
       "1  0.546833  0.225195\n",
       "2  0.616589  0.225494\n",
       "3  0.065718  0.374913\n",
       "4  0.132824 -1.066660\n",
       "5  0.896065  2.416090\n",
       "6  0.139145 -1.195936\n",
       "7  0.441393  0.464830\n",
       "8  0.028050 -0.143843\n",
       "9  0.595083  2.502043"
      ]
     },
     "execution_count": 7,
     "metadata": {},
     "output_type": "execute_result"
    }
   ],
   "source": [
    "import pandas as pd\n",
    "\n",
    "df = pd.DataFrame({\n",
    "    'x': x,\n",
    "    'y': y\n",
    "})\n",
    "\n",
    "df"
   ]
  },
  {
   "cell_type": "code",
   "execution_count": 8,
   "id": "655df498-1c7b-4d49-bda5-ddafc2979892",
   "metadata": {},
   "outputs": [
    {
     "data": {
      "image/png": "[encoded data removed]",
      "text/plain": [
       "<Figure size 432x288 with 1 Axes>"
      ]
     },
     "metadata": {
      "needs_background": "light"
     },
     "output_type": "display_data"
    }
   ],
   "source": [
    "plt.title('Scatter plot')\n",
    "plt.scatter(df['x'], df['y'], color='black', s=10)\n",
    "plt.show()"
   ]
  },
  {
   "cell_type": "markdown",
   "id": "b3245ecd-0b3a-462e-9ef0-82cfcb1064d4",
   "metadata": {},
   "source": [
    "## 4. Distribution plots\n",
    "\n",
    "### 4.1. Histogram"
   ]
  },
  {
   "cell_type": "code",
   "execution_count": 9,
   "id": "32907966-207b-48fc-a96c-446d3fb28d2f",
   "metadata": {},
   "outputs": [],
   "source": [
    "data = np.random.normal(0, 1, 10000)"
   ]
  },
  {
   "cell_type": "code",
   "execution_count": 10,
   "id": "7333cddf-0764-498d-bf8e-067df11063d8",
   "metadata": {},
   "outputs": [
    {
     "data": {
      "image/png": "[encoded data removed]",
      "text/plain": [
       "<Figure size 432x288 with 1 Axes>"
      ]
     },
     "metadata": {
      "needs_background": "light"
     },
     "output_type": "display_data"
    }
   ],
   "source": [
    "plt.title('Histogram')\n",
    "plt.hist(data, bins=30, color='gray', edgecolor='black')\n",
    "plt.xlabel('Value')\n",
    "plt.ylabel('Count')\n",
    "plt.show()"
   ]
  },
  {
   "cell_type": "markdown",
   "id": "5fdab337-3209-42f2-abba-405d92fa02a6",
   "metadata": {},
   "source": [
    "### 1. Boxplot"
   ]
  },
  {
   "cell_type": "code",
   "execution_count": 11,
   "id": "63ebfd8a-e2f1-41d7-b870-c8a51bcbcc50",
   "metadata": {},
   "outputs": [],
   "source": [
    "# Generate data for a box plot\n",
    "data = [\n",
    "    np.random.normal(0, 1, 100),\n",
    "    np.random.normal(0, 1.5, 100), \n",
    "    np.random.normal(0, 2, 100)\n",
    "]"
   ]
  },
  {
   "cell_type": "code",
   "execution_count": 12,
   "id": "149629f9-7c47-4a3d-a7be-0ed69a82311e",
   "metadata": {},
   "outputs": [],
   "source": [
    "bins=np.linspace(-5, 5, 20)"
   ]
  },
  {
   "cell_type": "code",
   "execution_count": 13,
   "id": "6411cc38-f46a-44db-b278-adc33c8e4c91",
   "metadata": {},
   "outputs": [
    {
     "data": {
      "image/png": "[encoded data removed]",
      "text/plain": [
       "<Figure size 432x288 with 1 Axes>"
      ]
     },
     "metadata": {
      "needs_background": "light"
     },
     "output_type": "display_data"
    }
   ],
   "source": [
    "plt.hist(np.random.normal(0, 1, 100), bins=bins)\n",
    "plt.show()"
   ]
  },
  {
   "cell_type": "code",
   "execution_count": 14,
   "id": "bdbb000f-005a-495a-abb1-050afa744bb5",
   "metadata": {},
   "outputs": [],
   "source": [
    "import math"
   ]
  },
  {
   "cell_type": "code",
   "execution_count": 15,
   "id": "b3e99497-5a5b-42bd-8fa6-c4385e5eb12c",
   "metadata": {},
   "outputs": [
    {
     "data": {
      "image/png": "[encoded data removed]",
      "text/plain": [
       "<Figure size 432x288 with 1 Axes>"
      ]
     },
     "metadata": {
      "needs_background": "light"
     },
     "output_type": "display_data"
    }
   ],
   "source": [
    "data3 = np.random.normal(0, 2, 100)\n",
    "plt.hist(data3, bins=bins)\n",
    "plt.axvline(np.median(data3), color='red')\n",
    "plt.show()"
   ]
  },
  {
   "cell_type": "code",
   "execution_count": 16,
   "id": "7a0a371d-723b-4911-85ac-e0421cfa63af",
   "metadata": {},
   "outputs": [
    {
     "data": {
      "image/png": "[encoded data removed]",
      "text/plain": [
       "<Figure size 432x288 with 1 Axes>"
      ]
     },
     "metadata": {
      "needs_background": "light"
     },
     "output_type": "display_data"
    }
   ],
   "source": [
    "plt.title('Boxplot')\n",
    "plt.boxplot(data)\n",
    "plt.show()"
   ]
  }
 ],
 "metadata": {
  "kernelspec": {
   "display_name": "Python 3 [3.10]",
   "language": "python",
   "name": "python3"
  },
  "language_info": {
   "codemirror_mode": {
    "name": "ipython",
    "version": 3
   },
   "file_extension": ".py",
   "mimetype": "text/x-python",
   "name": "python",
   "nbconvert_exporter": "python",
   "pygments_lexer": "ipython3",
   "version": "3.10.2"
  }
 },
 "nbformat": 4,
 "nbformat_minor": 5
}
